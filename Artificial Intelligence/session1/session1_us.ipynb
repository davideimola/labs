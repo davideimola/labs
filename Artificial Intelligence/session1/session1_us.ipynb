{
 "cells": [
  {
   "cell_type": "markdown",
   "metadata": {},
   "source": [
    "# AI-LAB SESSION 1: Uninformed search\n",
    "\n",
    "In this first session we will work on uninformed search\n",
    "\n",
    "## Maze environments\n",
    "\n",
    "The environments used are **SmallMaze** (visible in the figure) and its variations\n",
    "![SmallMaze](images/maze.png)\n",
    "The agent starts in cell $(0, 2)$ and has to reach the treasure in $(4, 3)$\n",
    "\n",
    "## Assignment 1\n",
    "\n",
    "Your first assignment is to implement the BFS algorithm on **SmallMaze**. In particular, you are required to implement both *tree_search* and *graph_search* versions of BFS that will be called by the generic *bfs*.\n",
    "\n",
    "The results returned by your *bfs* must be a tuple $(path, stats)$ in the following form:\n",
    "* *path* - tuple of state identifiers forming a path from the start state to the goal state. ``None`` if no solution is found\n",
    "* *stats* - tuple of:\n",
    "     * *time* - time elapsed between the start and the end of the algorithm\n",
    "     * *expc* - number of nodes explored. A node is considered as explored when removed from the fringe and analyzed\n",
    "     * *maxnodes* - maximum number of nodes in memory at the same time (fringe + closed)\n",
    "\n",
    "After the correctness of your implementations have been assessed, you can run the algorithms on other two maze environments: **GrdMaze** and **BlockedMaze**.\n",
    "\n",
    "Function *build_path* can be used to return a tuple of states from the root node (excluded) to another node by following *parent* links"
   ]
  },
  {
   "cell_type": "code",
   "execution_count": 10,
   "metadata": {},
   "outputs": [
    {
     "data": {
      "text/plain": [
       "(2, 3)"
      ]
     },
     "execution_count": 10,
     "metadata": {},
     "output_type": "execute_result"
    }
   ],
   "source": [
    "import os\n",
    "import sys\n",
    "module_path = os.path.abspath(os.path.join('..'))\n",
    "if module_path not in sys.path:\n",
    "    sys.path.append(module_path)\n",
    "\n",
    "import gym\n",
    "import envs\n",
    "from timeit import default_timer as timer\n",
    "from utils.fringe import FringeNode, QueueFringe\n",
    "from utils.funcs import build_path\n",
    "\n",
    "node_1 = FringeNode(1)\n",
    "node_2 = FringeNode(2, node_1)\n",
    "node_3 = FringeNode(3, node_2)\n",
    "build_path(node_3)"
   ]
  },
  {
   "cell_type": "markdown",
   "metadata": {},
   "source": [
    "The next two functions have to be implemented"
   ]
  },
  {
   "cell_type": "code",
   "execution_count": 13,
   "metadata": {},
   "outputs": [],
   "source": [
    "def tree_search(environment, fringe):\n",
    "    \"\"\"\n",
    "    Tree search\n",
    "    \n",
    "    Args:\n",
    "        environment: OpenAI Gym environment\n",
    "        fringe: instance of Fringe data structure\n",
    "        \n",
    "    Returns:\n",
    "        (path, stats): solution as a path and stats.\n",
    "        The stats are a tuple of (expc, maxnodes): number of explored states, max nodes in memory\n",
    "    \"\"\"\n",
    "    removed = 0\n",
    "    node = FringeNode(environment.startstate)\n",
    "    if node.state == environment.goalstate:\n",
    "        return build_path(node), (removed, len(fringe))\n",
    "    fringe.add(node)\n",
    "    \n",
    "    while True:\n",
    "        if fringe.is_empty():\n",
    "            return None, (removed, len(fringe))\n",
    "        node = fringe.remove()\n",
    "        removed = removed + 1\n",
    "        \n",
    "        if node.state == environment.goalstate:\n",
    "            return build_path(node), (removed, len(fringe) + 1)\n",
    "        \n",
    "        for action in range(environment.action_space.n):\n",
    "            child = FringeNode(environment.sample(node.state, action), node)\n",
    "            fringe.add(child)"
   ]
  },
  {
   "cell_type": "code",
   "execution_count": 11,
   "metadata": {},
   "outputs": [],
   "source": [
    "def graph_search(environment, fringe):\n",
    "    \"\"\"\n",
    "    Graph search\n",
    "    \n",
    "    Args:\n",
    "        environment: OpenAI Gym environment\n",
    "        fringe: instance of Fringe data structure\n",
    "        \n",
    "    Returns:\n",
    "        (path, stats): solution as a path and stats.\n",
    "        The stats are a tuple of (expc, maxnodes): number of explored nodes, max nodes in memory\n",
    "    \"\"\"\n",
    "    removed = 0\n",
    "    node = FringeNode(environment.startstate)\n",
    "    if node.state == environment.goalstate:\n",
    "        return build_path(node), (removed, len(fringe) + len(closed))\n",
    "    fringe.add(node)\n",
    "    closed = QueueFringe()\n",
    "    while True:\n",
    "        if fringe.is_empty():\n",
    "            return None, (removed, len(fringe) + len(closed))\n",
    "        node = fringe.remove()\n",
    "        removed = removed + 1\n",
    "        closed.add(node)\n",
    "        \n",
    "        for action in range(environment.action_space.n):\n",
    "            child = FringeNode(environment.sample(node.state, action), node)\n",
    "            if child.state not in fringe and child.state not in closed:\n",
    "                if child.state == environment.goalstate:\n",
    "                    return build_path(child), (removed + 1, len(fringe) + len(closed) + 1)\n",
    "                fringe.add(child)"
   ]
  },
  {
   "cell_type": "code",
   "execution_count": 12,
   "metadata": {},
   "outputs": [],
   "source": [
    "def bfs(environment, search_type):\n",
    "    \"\"\"\n",
    "    Breadth-first search\n",
    "    \n",
    "    Args:\n",
    "        environment: OpenAI Gym environment\n",
    "        search_type: type of search - tree_search or graph_search (function pointer)\n",
    "        \n",
    "    Returns:\n",
    "        (path, stats): solution as a path and stats.\n",
    "        The stats are a tuple of (time, expc, maxnodes): elapsed time, number of explored nodes, max nodes in memory\n",
    "    \"\"\"\n",
    "    t = timer()\n",
    "    path, stats = search_type(environment, QueueFringe())\n",
    "    return path, (timer() - t, stats[0], stats[1])"
   ]
  },
  {
   "cell_type": "markdown",
   "metadata": {},
   "source": [
    "The following code calls your tree search version of BFS and prints the results"
   ]
  },
  {
   "cell_type": "code",
   "execution_count": 14,
   "metadata": {},
   "outputs": [
    {
     "name": "stdout",
     "output_type": "stream",
     "text": [
      "\n",
      "----------------------------------------------------------------\n",
      "\tTREE SEARCH\n",
      "\tEnvironment:  GrdMaze-v0\n",
      "----------------------------------------------------------------\n",
      "\n",
      "[['C' 'C' 'C' 'S']\n",
      " ['C' 'C' 'W' 'C']\n",
      " ['C' 'C' 'C' 'C']\n",
      " ['C' 'W' 'W' 'W']\n",
      " ['C' 'C' 'C' 'G']]\n",
      "\n",
      "\n",
      "Execution time: 52.9909s\n",
      "N° of nodes explored: 365867\n",
      "Max n° of nodes in memory: 1097599\n",
      "Solution: [(0, 2), (0, 1), (0, 0), (1, 0), (2, 0), (3, 0), (4, 0), (4, 1), (4, 2), (4, 3)]\n"
     ]
    }
   ],
   "source": [
    "envname = \"GrdMaze-v0\"  # Other options are GrdMaze-v0 and BlockedMaze-v0\n",
    "\n",
    "print(\"\\n----------------------------------------------------------------\")\n",
    "print(\"\\tTREE SEARCH\")\n",
    "print(\"\\tEnvironment: \", envname)\n",
    "print(\"----------------------------------------------------------------\\n\")\n",
    "\n",
    "# Create and render the environment\n",
    "env = gym.make(envname)\n",
    "\n",
    "# Create and render the environment\n",
    "env = gym.make(envname)\n",
    "env.render()\n",
    "solution, stats = bfs(env, tree_search)  # Perform BFS\n",
    "if solution is not None:\n",
    "    solution = [env.state_to_pos(s) for s in solution]\n",
    "    \n",
    "# Print stats and path\n",
    "print(\"\\n\\nExecution time: {0}s\\nN° of nodes explored: {1}\\nMax n° of nodes in memory: {2}\\nSolution: {3}\".format(\n",
    "        round(stats[0], 4), stats[1], stats[2], solution))"
   ]
  },
  {
   "cell_type": "markdown",
   "metadata": {},
   "source": [
    "Correct results for BFS tree search can be found [here](results/bfs_tree_search_results.txt)\n",
    "\n",
    "The following code calls your graph search version of BFS and prints the results"
   ]
  },
  {
   "cell_type": "code",
   "execution_count": 9,
   "metadata": {},
   "outputs": [
    {
     "name": "stdout",
     "output_type": "stream",
     "text": [
      "\n",
      "----------------------------------------------------------------\n",
      "\tGRAPH SEARCH\n",
      "\tEnvironment:  SmallMaze-v0\n",
      "----------------------------------------------------------------\n",
      "\n",
      "[['C' 'C' 'S' 'C']\n",
      " ['C' 'C' 'W' 'C']\n",
      " ['C' 'C' 'C' 'C']\n",
      " ['C' 'W' 'W' 'W']\n",
      " ['C' 'C' 'C' 'G']]\n",
      "\n",
      "\n",
      "Execution time: 0.008s\n",
      "N° of nodes explored: 16\n",
      "Max n° of nodes in memory: 16\n",
      "Solution: [(0, 1), (0, 0), (1, 0), (2, 0), (3, 0), (4, 0), (4, 1), (4, 2), (4, 3)]\n"
     ]
    }
   ],
   "source": [
    "envname = \"SmallMaze-v0\"  # Other options are GrdMaze-v0 and BlockedMaze-v0\n",
    "\n",
    "print(\"\\n----------------------------------------------------------------\")\n",
    "print(\"\\tGRAPH SEARCH\")\n",
    "print(\"\\tEnvironment: \", envname)\n",
    "print(\"----------------------------------------------------------------\\n\")\n",
    "\n",
    "# Create and render the environment\n",
    "env = gym.make(envname)\n",
    "env.render()\n",
    "solution, stats = bfs(env, graph_search)  # Perform BFS\n",
    "if solution is not None:\n",
    "    solution = [env.state_to_pos(s) for s in solution]\n",
    "    \n",
    "# Print stats and path\n",
    "print(\"\\n\\nExecution time: {0}s\\nN° of nodes explored: {1}\\nMax n° of nodes in memory: {2}\\nSolution: {3}\".format(\n",
    "        round(stats[0], 4), stats[1], stats[2], solution))"
   ]
  },
  {
   "cell_type": "markdown",
   "metadata": {},
   "source": [
    "Correct results for BFS graph search can be found [here](results/bfs_graph_search_results.txt)\n",
    "\n",
    "## Assignment 2\n",
    "\n",
    "Your second assignment is to implement the IDS algorithm on **SmallMaze**. In particular, you are required to implement both *dls_ts* (depth-limited tree search) and *dls_gs* (depth-limited graph search) versions of IDS that will be called by the generic *ids*. The recursions must be implemented in *rdls_ts* (recursive depth-limited tree search) and *rdls_gs* (recursive depth-limited graph search) called by *dls_ts* and *dls_gs* respectively.\n",
    "\n",
    "Similarly to assignment 1, the results returned by your *ids* must be a tuple $(path, stats)$ in the following form:\n",
    "* *path* - tuple of state identifiers forming a path from the start state to the goal state. ``None`` if no solution is found\n",
    "* *stats* - tuple of:\n",
    "     * *time* - time elapsed between the start and the end of the algorithm\n",
    "     * *expc* - number of nodes explored. A node is considered as explored when removed from the fringe and analyzed\n",
    "     * *maxnodes* - maximum number of nodes in memory at the same time (the depth of the recursion stack + closed)\n",
    "\n",
    "After the correctness of your implementations have been assessed, you can run the algorithms on other two maze environments: **GrdMaze** and **BlockedMaze**.\n",
    "\n",
    "**FringeNode** has a useful variable that can be set in the constructor and can be used to track the depth of a node in the path (and consequently of the recursion stack of IDS): *pathcost*. If the root node has a *pathcost* of 0, its children will have a *pathcost* increased by 1"
   ]
  },
  {
   "cell_type": "code",
   "execution_count": 15,
   "metadata": {},
   "outputs": [
    {
     "name": "stdout",
     "output_type": "stream",
     "text": [
      "Root pathcost: 0\tChild pathcost: 1\n"
     ]
    }
   ],
   "source": [
    "start = env.startstate\n",
    "root = FringeNode(start)  # parent = None and pathcost = 0 as default\n",
    "child = FringeNode(env.sample(start, 0), root, root.pathcost + 1)  # pathcost is the third argument\n",
    "print(\"Root pathcost: {}\\tChild pathcost: {}\".format(root.pathcost, child.pathcost))"
   ]
  },
  {
   "cell_type": "markdown",
   "metadata": {},
   "source": [
    "Here you can implement the various functions requested"
   ]
  },
  {
   "cell_type": "code",
   "execution_count": 17,
   "metadata": {},
   "outputs": [],
   "source": [
    "def dls_ts(environment, limit):\n",
    "    \"\"\"\n",
    "    Depth-limited search (tree search)\n",
    "    \n",
    "    Args:\n",
    "        environment: OpenAI Gym environment\n",
    "        limit: depth limit budget\n",
    "        \n",
    "    Returns:\n",
    "        (path, cutoff, stats): solution as a path, cutoff flag and stats.\n",
    "        The stats are a tuple of (time, expc, maxnodes): elapsed time, number of explored nodes, max nodes in memory\n",
    "    \"\"\"\n",
    "    t = timer()\n",
    "    path, cutoff, expc, maxdepth = rdls_ts(environment, FringeNode(environment.startstate), limit)\n",
    "    return path, cutoff, (timer() - t, expc, maxdepth)"
   ]
  },
  {
   "cell_type": "code",
   "execution_count": 16,
   "metadata": {},
   "outputs": [],
   "source": [
    "def rdls_ts(environment, node, limit):\n",
    "    \"\"\"\n",
    "    Recursive depth-limited search (tree search)\n",
    "    \n",
    "    Args:\n",
    "        environment: OpenAI Gym environment\n",
    "        node: node to explore\n",
    "        limit: depth limit budget\n",
    "    \n",
    "    Returns:\n",
    "        (path, cutoff, expc, maxdepth): path, cutoff flag, number of explored nodes, max nodes in memory\n",
    "    \"\"\"\n",
    "    if node.state == environment.goalstate:\n",
    "        return build_path(node), False, 1, limit + 1\n",
    "    \n",
    "    if limit == 0:\n",
    "        return None, True,0,0\n",
    "    \n",
    "    cutoffOccured = False\n",
    "    counter = 1\n",
    "    for action in range(environment.action_space.n):\n",
    "        child = FringeNode(environment.sample(node.state, action), node)\n",
    "        counter = counter + 1\n",
    "        path, cutoff, expc, maxDepth = rdls_ts(environment, child, limit - 1)\n",
    "        if cutoff == True:\n",
    "            cutoffOccured = True\n",
    "        elif path != None:\n",
    "            return path, cutoff, expc + counter, maxDepth\n",
    "    \n",
    "    if cutoffOccured:\n",
    "        return None, True, expc + counter, 0\n",
    "    return None, False, expc + counter, 0"
   ]
  },
  {
   "cell_type": "code",
   "execution_count": 42,
   "metadata": {},
   "outputs": [],
   "source": [
    " def dls_gs(environment, limit):\n",
    "    \"\"\"\n",
    "    Depth-limited search (graph search)\n",
    "    \n",
    "    Args:\n",
    "        environment: OpenAI Gym environment\n",
    "        limit: depth limit budget\n",
    "        \n",
    "    Returns:\n",
    "        (path, cutoff, stats): solution as a path, cutoff flag and stats.\n",
    "        The stats are a tuple of (time, expc, maxnodes): elapsed time, number of explored nodes, max nodes in memory\n",
    "    \"\"\"\n",
    "    t = timer()\n",
    "    path, cutoff, expc, maxdepth = rdls_gs(environment, FringeNode(environment.startstate), limit, QueueFringe())\n",
    "    return path, cutoff, (timer() - t, expc, maxdepth)"
   ]
  },
  {
   "cell_type": "code",
   "execution_count": 49,
   "metadata": {},
   "outputs": [],
   "source": [
    "def rdls_gs(environment, node, limit, closed):\n",
    "    \"\"\"\n",
    "    Recursive depth-limited search (graph search)\n",
    "    \n",
    "    Args:\n",
    "        environment: OpenAI Gym environment\n",
    "        node: node to explore\n",
    "        limit: depth limit budget\n",
    "        closed: completely explored nodes\n",
    "        \n",
    "    Returns:\n",
    "        (path, cutoff, expc, maxdepth): path, cutoff flag, n° of nodes explored, max nodes in memory\n",
    "    \"\"\"\n",
    "    if node.state == environment.goalstate:\n",
    "        return build_path(node), False, 1, len(closed)\n",
    "    \n",
    "    if limit == 0:\n",
    "        return None, True,0,0\n",
    "    \n",
    "    cutoffOccured = False\n",
    "    counter = 1\n",
    "    for action in range(environment.action_space.n):\n",
    "        child = FringeNode(environment.sample(node.state, action), node)\n",
    "        counter = counter + 1\n",
    "        if child.state not in closed:\n",
    "            closed.add(child)\n",
    "            path, cutoff, expc, maxDepth = rdls_gs(environment, child, limit - 1, closed)\n",
    "            if cutoff == True:\n",
    "                cutoffOccured = True\n",
    "            elif path != None:\n",
    "                return path, cutoff, expc + counter, len(closed)\n",
    "    \n",
    "    if cutoffOccured:\n",
    "        return None, True, counter + len(closed), len(closed)\n",
    "    return None, False, counter + len(closed), len(closed)"
   ]
  },
  {
   "cell_type": "code",
   "execution_count": 50,
   "metadata": {},
   "outputs": [],
   "source": [
    "def ids(environment, search_type):\n",
    "    \"\"\"\n",
    "    Iterative deepening depth-first search\n",
    "    \n",
    "    Args:\n",
    "        environment: OpenAI Gym environment\n",
    "        search_type: type of search (graph or tree) - dls_gs or dls_ts (function pointer)\n",
    "    \n",
    "    Returns:\n",
    "        (path, stats): solution as a path and stats.\n",
    "        The stats are a tuple of (time, expc, maxnodes): elapsed time, number of explored nodes, max nodes in memory\n",
    "    \"\"\"\n",
    "    t = timer()\n",
    "    expc = 0\n",
    "    for depth in range(0, sys.maxsize):\n",
    "        path, cutoff, stats = search_type(environment, depth)\n",
    "        if cutoff != True:\n",
    "            expc = expc + stats[1]\n",
    "            return path, (timer() - t, expc, depth + 1)"
   ]
  },
  {
   "cell_type": "markdown",
   "metadata": {},
   "source": [
    "The following code calls your tree search version of IDS and prints the results"
   ]
  },
  {
   "cell_type": "code",
   "execution_count": 51,
   "metadata": {},
   "outputs": [
    {
     "name": "stdout",
     "output_type": "stream",
     "text": [
      "\n",
      "----------------------------------------------------------------\n",
      "\tTREE SEARCH\n",
      "\tEnvironment:  SmallMaze-v0\n",
      "----------------------------------------------------------------\n",
      "\n",
      "[['C' 'C' 'S' 'C']\n",
      " ['C' 'C' 'W' 'C']\n",
      " ['C' 'C' 'C' 'C']\n",
      " ['C' 'W' 'W' 'W']\n",
      " ['C' 'C' 'C' 'G']]\n",
      "\n",
      "\n",
      "Execution time: 4.5638s\n",
      "N° of nodes explored: 34\n",
      "Max n° of nodes in memory: 10\n",
      "Solution: [(0, 1), (0, 0), (1, 0), (2, 0), (3, 0), (4, 0), (4, 1), (4, 2), (4, 3)]\n"
     ]
    }
   ],
   "source": [
    "envname = \"SmallMaze-v0\"  # Other options are GrdMaze-v0 and BlockedMaze-v0\n",
    "\n",
    "print(\"\\n----------------------------------------------------------------\")\n",
    "print(\"\\tTREE SEARCH\")\n",
    "print(\"\\tEnvironment: \", envname)\n",
    "print(\"----------------------------------------------------------------\\n\")\n",
    "\n",
    "# Create and render the environment\n",
    "env = gym.make(envname)\n",
    "env.render()\n",
    "solution, stats = ids(env, dls_ts)  # Perform BFS\n",
    "if solution is not None:\n",
    "    solution = [env.state_to_pos(s) for s in solution]\n",
    "    \n",
    "# Print stats and path\n",
    "print(\"\\n\\nExecution time: {0}s\\nN° of nodes explored: {1}\\nMax n° of nodes in memory: {2}\\nSolution: {3}\".format(\n",
    "        round(stats[0], 4), stats[1], stats[2], solution))"
   ]
  },
  {
   "cell_type": "markdown",
   "metadata": {},
   "source": [
    "Correct results for IDS tree search can be found [here](results/ids_tree_search_results.txt)\n",
    "\n",
    "The following code calls your graph search version of IDS and prints the results"
   ]
  },
  {
   "cell_type": "code",
   "execution_count": 52,
   "metadata": {},
   "outputs": [
    {
     "name": "stdout",
     "output_type": "stream",
     "text": [
      "\n",
      "----------------------------------------------------------------\n",
      "\tGRAPH SEARCH\n",
      "\tEnvironment:  GrdMaze-v0\n",
      "----------------------------------------------------------------\n",
      "\n",
      "[['C' 'C' 'C' 'S']\n",
      " ['C' 'C' 'W' 'C']\n",
      " ['C' 'C' 'C' 'C']\n",
      " ['C' 'W' 'W' 'W']\n",
      " ['C' 'C' 'C' 'G']]\n",
      "\n",
      "\n",
      "Execution time: 0.0161s\n",
      "N° of nodes explored: 41\n",
      "Max n° of nodes in memory: 13\n",
      "Solution: [(0, 2), (0, 1), (0, 0), (1, 0), (1, 1), (2, 1), (2, 0), (3, 0), (4, 0), (4, 1), (4, 2), (4, 3)]\n"
     ]
    }
   ],
   "source": [
    "envname = \"GrdMaze-v0\"  # Other options are GrdMaze-v0 and BlockedMaze-v0\n",
    "\n",
    "print(\"\\n----------------------------------------------------------------\")\n",
    "print(\"\\tGRAPH SEARCH\")\n",
    "print(\"\\tEnvironment: \", envname)\n",
    "print(\"----------------------------------------------------------------\\n\")\n",
    "\n",
    "# Create and render the environment\n",
    "env = gym.make(envname)\n",
    "env.render()\n",
    "solution, stats = ids(env, dls_gs)  # Perform BFS\n",
    "if solution is not None:\n",
    "    solution = [env.state_to_pos(s) for s in solution]\n",
    "    \n",
    "# Print stats and path\n",
    "print(\"\\n\\nExecution time: {0}s\\nN° of nodes explored: {1}\\nMax n° of nodes in memory: {2}\\nSolution: {3}\".format(\n",
    "        round(stats[0], 4), stats[1], stats[2], solution))"
   ]
  },
  {
   "cell_type": "markdown",
   "metadata": {},
   "source": [
    "Correct results for IDS graph search can be found [here](results/ids_graph_search_results.txt)\n",
    "\n",
    "## Discussion\n",
    "\n",
    "Now that you have correctly implemented both BFS and IDS what can you say about the solutions they compute? Are there significant differences in the stats?"
   ]
  }
 ],
 "metadata": {
  "kernelspec": {
   "display_name": "Python 3",
   "language": "python",
   "name": "python3"
  },
  "language_info": {
   "codemirror_mode": {
    "name": "ipython",
    "version": 3
   },
   "file_extension": ".py",
   "mimetype": "text/x-python",
   "name": "python",
   "nbconvert_exporter": "python",
   "pygments_lexer": "ipython3",
   "version": "3.7.3"
  }
 },
 "nbformat": 4,
 "nbformat_minor": 2
}
